{
 "cells": [
  {
   "cell_type": "code",
   "execution_count": 1,
   "id": "961036c0",
   "metadata": {},
   "outputs": [
    {
     "name": "stderr",
     "output_type": "stream",
     "text": [
      "C:\\Users\\gaura\\anaconda3\\lib\\site-packages\\docx\\styles\\styles.py:139: UserWarning: style lookup by style_id is deprecated. Use style name as key instead.\n",
      "  return self._get_style_id_from_style(self[style_name], style_type)\n"
     ]
    }
   ],
   "source": [
    "from docx import Document\n",
    "from docx.shared import Inches\n",
    "from docx.enum.text import WD_ALIGN_PARAGRAPH\n",
    "\n",
    "document = Document()\n",
    "\n",
    "title = document.add_heading('Regional Office, KR Puram', 0)\n",
    "title.alignment = WD_ALIGN_PARAGRAPH.CENTER\n",
    "#document.add_heading('An overview of Regional Office, KR Puram', level=2)\n",
    "\n",
    "\n",
    "\n",
    "p = document.add_paragraph('An introductory paragraph about EPFO and its functions')\n",
    "\n",
    "p.add_run(' Adding sentences. ').bold = True\n",
    "p.add_run(' Bold Sentences. ')\n",
    "p.add_run('Italic sentences.').italic = True\n",
    "document.add_paragraph('Lorem ipsum dolor sit amet.', style='ListBullet')\n",
    "document.add_heading('Heading, level 1', level=1)\n",
    "document.add_paragraph('Intense quote', style='Intense Quote')\n",
    "\n",
    "document.add_paragraph(\n",
    "    'first item in unordered list', style='List Bullet'\n",
    ")\n",
    "document.add_paragraph(\n",
    "    'first item in ordered list', style='List Number'\n",
    ")\n",
    "\n",
    "document.add_picture('Rplot.png', width=Inches(1.25))\n",
    "\n",
    "records = (\n",
    "    (1, 'LDASR', 800),\n",
    "    (2, 'PYKRP', 700),\n",
    "    (3,'RJRAJ',500)\n",
    ")\n",
    "\n",
    "table = document.add_table(rows=1, cols=3)\n",
    "hdr_cells = table.rows[0].cells\n",
    "hdr_cells[0].text = 'Sr'\n",
    "hdr_cells[1].text = 'Office Code'\n",
    "hdr_cells[2].text = 'Strength'\n",
    "table.style = \"Light Grid Accent 5\"\n",
    "for sr, code, count in records:\n",
    "    row_cells = table.add_row().cells\n",
    "    row_cells[0].text = str(sr)\n",
    "    row_cells[1].text = code\n",
    "    row_cells[2].text = str(count)\n",
    "    \n",
    "#document.add_page_break()\n",
    "\n",
    "document.save('demo2.docx')\n",
    "\n",
    "import win32com.client # install with \"pip install pywin32==224\"\n",
    "import docx, os\n",
    "\n",
    "wordFilename = 'demo2.docx'\n",
    "fulldocpath = os.getcwd() + \"\\\\\" + wordFilename\n",
    "pdfFilename = 'report.pdf'\n",
    "fullpdfpath = os.getcwd() + \"\\\\\" + pdfFilename\n",
    "\n",
    "\n",
    "wdFormatPDF = 17 # Word's numeric code for PDFs.\n",
    "wordObj = win32com.client.Dispatch('Word.Application')\n",
    "docObj = wordObj.Documents.Open(fulldocpath)\n",
    "docObj.SaveAs(fullpdfpath, FileFormat=wdFormatPDF)\n",
    "docObj.Close()\n",
    "wordObj.Quit()"
   ]
  }
 ],
 "metadata": {
  "kernelspec": {
   "display_name": "Python 3 (ipykernel)",
   "language": "python",
   "name": "python3"
  },
  "language_info": {
   "codemirror_mode": {
    "name": "ipython",
    "version": 3
   },
   "file_extension": ".py",
   "mimetype": "text/x-python",
   "name": "python",
   "nbconvert_exporter": "python",
   "pygments_lexer": "ipython3",
   "version": "3.8.13"
  }
 },
 "nbformat": 4,
 "nbformat_minor": 5
}
